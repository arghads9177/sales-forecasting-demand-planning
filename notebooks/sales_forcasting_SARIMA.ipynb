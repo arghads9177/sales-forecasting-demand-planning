{
 "cells": [
  {
   "cell_type": "markdown",
   "id": "050b11d0-732a-4551-b27f-2a18833e6755",
   "metadata": {},
   "source": [
    "# Sales Analysis, Forecasting and Demand Planning Project  \n",
    "\n",
    "## Project Overview  \n",
    "This project focuses on developing a robust sales forecasting and demand planning system for retail businesses. By analyzing historical sales data, we aim to optimize production, inventory management, and resource planning by accurately predicting future sales trends. Leveraging machine learning and statistical models, this project provides actionable insights to improve operational efficiency, reduce costs, and enhance customer satisfaction.\n",
    "\n",
    "---\n",
    "\n",
    "## About the Dataset  \n",
    "\n",
    "This dataset provides historical sales data for the retail furniture sector, serving as a valuable resource for business analysis. It includes detailed transaction-level information that can be used to understand sales trends, forecast future demand, and optimize inventory. The dataset enables informed decision-making to ensure business stability and growth in the competitive retail environment.\n",
    "\n",
    "## Data Source\n",
    "\n",
    "This sales data is available on Kaggle in the following Link,\n",
    "\n",
    "> https://www.kaggle.com/datasets/tanayatipre/store-sales-forecasting-dataset\n",
    "\n",
    "### Dataset Features  \n",
    "\n",
    "| Feature          | Description                                                                          |\n",
    "|-------------------|--------------------------------------------------------------------------------------|\n",
    "| `Row ID`         | Sequential identifier for each row.                                                 |\n",
    "| `Order ID`       | Unique identifier for each sales order.                                             |\n",
    "| `Order Date`     | Date of the sales order.                                                            |\n",
    "| `Ship Date`      | Date of shipment for the order.                                                     |\n",
    "| `Ship Mode`      | Mode of shipment for the order.                                                     |\n",
    "| `Customer ID`    | Unique identifier for each customer.                                                |\n",
    "| `Customer Name`  | Name of the customer.                                                               |\n",
    "| `Segment`        | Segment classification of the customer.                                             |\n",
    "| `Country`        | Country where the sale occurred.                                                    |\n",
    "| `City`           | City where the sale occurred.                                                       |\n",
    "| `State`          | State where the sale occurred.                                                      |\n",
    "| `Postal Code`    | Postal code where the sale occurred.                                                |\n",
    "| `Region`         | Geographical region where the sale occurred.                                        |\n",
    "| `Product ID`     | Unique identifier for each product.                                                 |\n",
    "| `Category`       | Category classification of the product.                                             |\n",
    "| `Sub-Category`   | Sub-category classification of the product.                                         |\n",
    "| `Product Name`   | Name of the product.                                                                |\n",
    "| `Sales`          | Total sales amount for the order.                                                   |\n",
    "| `Quantity`       | Quantity of products sold in the order.                                             |\n",
    "| `Discount`       | Discount applied to the order.                                                      |\n",
    "| `Profit`         | Profit generated from the order.                                                    |\n",
    "\n",
    "---\n",
    "\n",
    "## Business Objectives  \n",
    "\n",
    "1. **Sales Forecasting:**  \n",
    "   - Predict sales for the next 30 days for each product category.  \n",
    "   - Identify and leverage trends and seasonality in sales patterns.  \n",
    "\n",
    "2. **Demand Planning:**  \n",
    "   - Determine products or categories likely to experience surges in demand.  \n",
    "   - Reduce overstocking and understocking through accurate forecasts.  \n",
    "\n",
    "3. **Optimization:**  \n",
    "   - Optimize production schedules and inventory management.  \n",
    "   - Identify periods requiring special promotions to counter seasonal declines.  \n",
    "\n",
    "---\n",
    "\n",
    "## Methodology  \n",
    "\n",
    "### 1. **Data Understanding**  \n",
    "   - **Data Collection:** Gather historical sales data, pricing, promotions, holidays, and external factors (e.g., weather).  \n",
    "   - **Exploratory Data Analysis (EDA):** Perform statistical analysis and create visualizations to uncover trends, seasonality, and anomalies.  \n",
    "   - **Data Quality Assessment:** Identify and address missing, inconsistent, or irrelevant data.  \n",
    "\n",
    "### 2. **Data Preparation**  \n",
    "   - **Data Cleaning:** Handle missing values, outliers, and duplicates. Normalize sales data if necessary.  \n",
    "   - **Feature Engineering:** Create lag variables, rolling averages, seasonal indices, and encode categorical variables for modeling.  \n",
    "   - **Data Splitting:** Split the dataset into training, validation, and testing sets.  \n",
    "\n",
    "### 3. **Modeling**  \n",
    "   - **Baseline Models:** Develop simple models such as moving averages or exponential smoothing for benchmarking.  \n",
    "   - **Advanced Models:** Train machine learning (e.g., ARIMA, SARIMA, XGBoost, Random Forest) and deep learning models (e.g., LSTM, GRU, Prophet).  \n",
    "   - **Hyperparameter Optimization:** Fine-tune models to enhance accuracy and efficiency.  \n",
    "\n",
    "### 4. **Evaluation**  \n",
    "   - **Evaluation Metrics:** Use RMSE, MAPE, MAE, and R² to assess model performance.  \n",
    "   - **Visualization:** Plot predicted vs. actual sales to analyze trends and deviations.  \n",
    "   - **Model Selection:** Choose the best-performing model for deployment.  \n",
    "\n",
    "---\n",
    "\n",
    "## Applications  \n",
    "\n",
    "- **Inventory Management:** Ensure optimal inventory levels, minimizing costs associated with overstocking or stockouts.  \n",
    "- **Production Planning:** Use forecasts to adjust production schedules based on predicted demand.  \n",
    "- **Promotional Campaigns:** Identify low-demand periods and design targeted promotions to boost sales.  \n",
    "- **Revenue Forecasting:** Provide accurate revenue projections to guide financial planning.  \n",
    "\n",
    "---\n",
    "\n",
    "## Research Questions  \n",
    "\n",
    "1. What are the expected sales for the next 30 days for each product category?  \n",
    "2. Which products or categories show clear trends or seasonal demand patterns?  \n",
    "3. How can accurate demand forecasts improve inventory management and reduce operational costs?  \n",
    "4. Which time periods require targeted promotional strategies to mitigate sales dips?  \n",
    "\n",
    "---\n",
    "\n",
    "## Results and Insights  \n",
    "\n",
    "1. **Seasonal Trends:** Sales demonstrate clear peaks during holiday seasons and dips during specific months.  \n",
    "2. **Top-Selling Products:** Analysis of product categories reveals best-performing items and their contribution to revenue.  \n",
    "3. **Demand Surges:** Certain products experience predictable spikes in demand, enabling proactive inventory management.  \n",
    "4. **Model Performance:** LSTM and SARIMA models outperformed baseline methods in forecasting accuracy.  \n",
    "\n",
    "---\n",
    "\n",
    "## Conclusion  \n",
    "\n",
    "This project equips retail businesses with powerful forecasting tools to make data-driven decisions. By understanding historical sales patterns, businesses can optimize inventory, enhance production efficiency, and maximize profitability while maintaining customer satisfaction.\n"
   ]
  },
  {
   "cell_type": "markdown",
   "id": "ef5f6889-d996-42a4-8350-55929d942ec4",
   "metadata": {},
   "source": [
    "### Import Libraries"
   ]
  },
  {
   "cell_type": "code",
   "execution_count": 101,
   "id": "c25f7f09-67e4-40bc-9ced-f7c01ed30a89",
   "metadata": {},
   "outputs": [],
   "source": [
    "import pandas as pd\n",
    "import numpy as np\n",
    "import matplotlib.pyplot as plt\n",
    "import seaborn as sns\n",
    "import os\n",
    "import warnings\n",
    "\n",
    "from statsmodels.tsa.statespace.sarimax import SARIMAX\n",
    "from sklearn.metrics import mean_absolute_error, mean_squared_error, mean_absolute_percentage_error\n",
    "from pmdarima import auto_arima\n",
    "from sklearn.preprocessing import MinMaxScaler"
   ]
  },
  {
   "cell_type": "markdown",
   "id": "86d5b0e0-1878-4c18-9e4c-12508714bc3f",
   "metadata": {},
   "source": [
    "### Settings"
   ]
  },
  {
   "cell_type": "code",
   "execution_count": 89,
   "id": "be171e76-49ad-44c6-a443-e60befd8a9f5",
   "metadata": {},
   "outputs": [],
   "source": [
    "# Warnings\n",
    "warnings.filterwarnings(\"ignore\")\n",
    "\n",
    "# Plot\n",
    "sns.set_style(\"darkgrid\")\n",
    "\n",
    "# Path\n",
    "data_path = \"../data\"\n",
    "model_path = \"../models\"\n",
    "csv_path = os.path.join(data_path, \"ssf_monthly.csv\")\n",
    "# csv_path = os.path.join(data_path, \"ssf_cleaned.csv\")"
   ]
  },
  {
   "cell_type": "markdown",
   "id": "0666b327-6711-40f6-ae1c-644556417d12",
   "metadata": {},
   "source": [
    "### Load Data"
   ]
  },
  {
   "cell_type": "code",
   "execution_count": 90,
   "id": "0f51b046-9b47-45f6-a7af-c17a25f18e17",
   "metadata": {},
   "outputs": [],
   "source": [
    "df = pd.read_csv(csv_path)"
   ]
  },
  {
   "cell_type": "code",
   "execution_count": 91,
   "id": "e15f9e4e-16ca-4eec-b637-dd93179e2def",
   "metadata": {},
   "outputs": [
    {
     "data": {
      "text/html": [
       "<div>\n",
       "<style scoped>\n",
       "    .dataframe tbody tr th:only-of-type {\n",
       "        vertical-align: middle;\n",
       "    }\n",
       "\n",
       "    .dataframe tbody tr th {\n",
       "        vertical-align: top;\n",
       "    }\n",
       "\n",
       "    .dataframe thead th {\n",
       "        text-align: right;\n",
       "    }\n",
       "</style>\n",
       "<table border=\"1\" class=\"dataframe\">\n",
       "  <thead>\n",
       "    <tr style=\"text-align: right;\">\n",
       "      <th></th>\n",
       "      <th>Date</th>\n",
       "      <th>Sales</th>\n",
       "    </tr>\n",
       "  </thead>\n",
       "  <tbody>\n",
       "    <tr>\n",
       "      <th>0</th>\n",
       "      <td>2014-01-31</td>\n",
       "      <td>8639.6335</td>\n",
       "    </tr>\n",
       "    <tr>\n",
       "      <th>1</th>\n",
       "      <td>2014-02-28</td>\n",
       "      <td>12639.3790</td>\n",
       "    </tr>\n",
       "    <tr>\n",
       "      <th>2</th>\n",
       "      <td>2014-03-31</td>\n",
       "      <td>25293.3705</td>\n",
       "    </tr>\n",
       "    <tr>\n",
       "      <th>3</th>\n",
       "      <td>2014-04-30</td>\n",
       "      <td>17205.0717</td>\n",
       "    </tr>\n",
       "    <tr>\n",
       "      <th>4</th>\n",
       "      <td>2014-05-31</td>\n",
       "      <td>12942.5008</td>\n",
       "    </tr>\n",
       "  </tbody>\n",
       "</table>\n",
       "</div>"
      ],
      "text/plain": [
       "         Date       Sales\n",
       "0  2014-01-31   8639.6335\n",
       "1  2014-02-28  12639.3790\n",
       "2  2014-03-31  25293.3705\n",
       "3  2014-04-30  17205.0717\n",
       "4  2014-05-31  12942.5008"
      ]
     },
     "execution_count": 91,
     "metadata": {},
     "output_type": "execute_result"
    }
   ],
   "source": [
    "# Show 1st 5 rows\n",
    "df.head()"
   ]
  },
  {
   "cell_type": "code",
   "execution_count": 117,
   "id": "08d008c1-8125-453d-b535-ec9ac1311f50",
   "metadata": {},
   "outputs": [],
   "source": [
    "# Normalize the data\n",
    "scaler = MinMaxScaler()\n",
    "df[\"Sales_Scaled\"] = scaler.fit_transform(df[\"Sales\"].values.reshape(-1, 1))"
   ]
  },
  {
   "cell_type": "markdown",
   "id": "56f1ac37-0c2f-457f-839f-c9e39e84f28b",
   "metadata": {},
   "source": [
    "### Model Training"
   ]
  },
  {
   "cell_type": "code",
   "execution_count": 118,
   "id": "28dbec9d-3e9a-49f7-9b2b-f8fbef8cb4e4",
   "metadata": {},
   "outputs": [],
   "source": [
    "# Define model\n",
    "model = SARIMAX(\n",
    "    df[\"Sales_Scaled\"],\n",
    "    order = (2, 1, 0), # Non-seasonal(p,q,d)\n",
    "    seasonal_order = (2, 1, 0, 12), # Seasonal order(P,Q,D,S)\n",
    "    enforce_stationarity= True,\n",
    "    enforce_invertibility = True\n",
    ")"
   ]
  },
  {
   "cell_type": "code",
   "execution_count": 119,
   "id": "91a5e8c2-6ecd-4d49-94f3-79cda4b6e428",
   "metadata": {},
   "outputs": [
    {
     "name": "stdout",
     "output_type": "stream",
     "text": [
      "Optimization terminated successfully.\n",
      "         Current function value: -0.145510\n",
      "         Iterations: 5\n",
      "         Function evaluations: 301\n"
     ]
    },
    {
     "data": {
      "text/html": [
       "<table class=\"simpletable\">\n",
       "<caption>SARIMAX Results</caption>\n",
       "<tr>\n",
       "  <th>Dep. Variable:</th>            <td>Sales_Scaled</td>          <th>  No. Observations:  </th>   <td>48</td>  \n",
       "</tr>\n",
       "<tr>\n",
       "  <th>Model:</th>           <td>SARIMAX(2, 1, 0)x(2, 1, 0, 12)</td> <th>  Log Likelihood     </th>  <td>6.984</td>\n",
       "</tr>\n",
       "<tr>\n",
       "  <th>Date:</th>                   <td>Tue, 03 Dec 2024</td>        <th>  AIC                </th> <td>-3.969</td>\n",
       "</tr>\n",
       "<tr>\n",
       "  <th>Time:</th>                       <td>09:52:03</td>            <th>  BIC                </th>  <td>3.808</td>\n",
       "</tr>\n",
       "<tr>\n",
       "  <th>Sample:</th>                         <td>0</td>               <th>  HQIC               </th> <td>-1.284</td>\n",
       "</tr>\n",
       "<tr>\n",
       "  <th></th>                              <td> - 48</td>             <th>                     </th>    <td> </td>  \n",
       "</tr>\n",
       "<tr>\n",
       "  <th>Covariance Type:</th>               <td>opg</td>              <th>                     </th>    <td> </td>  \n",
       "</tr>\n",
       "</table>\n",
       "<table class=\"simpletable\">\n",
       "<tr>\n",
       "      <td></td>        <th>coef</th>     <th>std err</th>      <th>z</th>      <th>P>|z|</th>  <th>[0.025</th>    <th>0.975]</th>  \n",
       "</tr>\n",
       "<tr>\n",
       "  <th>ar.L1</th>    <td>   -0.5767</td> <td>    0.164</td> <td>   -3.512</td> <td> 0.000</td> <td>   -0.899</td> <td>   -0.255</td>\n",
       "</tr>\n",
       "<tr>\n",
       "  <th>ar.L2</th>    <td>   -0.3750</td> <td>    0.170</td> <td>   -2.210</td> <td> 0.027</td> <td>   -0.708</td> <td>   -0.042</td>\n",
       "</tr>\n",
       "<tr>\n",
       "  <th>ar.S.L12</th> <td>   -0.8803</td> <td>    0.249</td> <td>   -3.534</td> <td> 0.000</td> <td>   -1.368</td> <td>   -0.392</td>\n",
       "</tr>\n",
       "<tr>\n",
       "  <th>ar.S.L24</th> <td>   -0.3488</td> <td>    0.209</td> <td>   -1.672</td> <td> 0.094</td> <td>   -0.758</td> <td>    0.060</td>\n",
       "</tr>\n",
       "<tr>\n",
       "  <th>sigma2</th>   <td>    0.0293</td> <td>    0.010</td> <td>    2.871</td> <td> 0.004</td> <td>    0.009</td> <td>    0.049</td>\n",
       "</tr>\n",
       "</table>\n",
       "<table class=\"simpletable\">\n",
       "<tr>\n",
       "  <th>Ljung-Box (L1) (Q):</th>     <td>0.41</td> <th>  Jarque-Bera (JB):  </th> <td>1.61</td> \n",
       "</tr>\n",
       "<tr>\n",
       "  <th>Prob(Q):</th>                <td>0.52</td> <th>  Prob(JB):          </th> <td>0.45</td> \n",
       "</tr>\n",
       "<tr>\n",
       "  <th>Heteroskedasticity (H):</th> <td>0.92</td> <th>  Skew:              </th> <td>-0.47</td>\n",
       "</tr>\n",
       "<tr>\n",
       "  <th>Prob(H) (two-sided):</th>    <td>0.89</td> <th>  Kurtosis:          </th> <td>2.51</td> \n",
       "</tr>\n",
       "</table><br/><br/>Warnings:<br/>[1] Covariance matrix calculated using the outer product of gradients (complex-step)."
      ],
      "text/latex": [
       "\\begin{center}\n",
       "\\begin{tabular}{lclc}\n",
       "\\toprule\n",
       "\\textbf{Dep. Variable:}          &         Sales\\_Scaled          & \\textbf{  No. Observations:  } &     48      \\\\\n",
       "\\textbf{Model:}                  & SARIMAX(2, 1, 0)x(2, 1, 0, 12) & \\textbf{  Log Likelihood     } &   6.984     \\\\\n",
       "\\textbf{Date:}                   &        Tue, 03 Dec 2024        & \\textbf{  AIC                } &   -3.969    \\\\\n",
       "\\textbf{Time:}                   &            09:52:03            & \\textbf{  BIC                } &   3.808     \\\\\n",
       "\\textbf{Sample:}                 &               0                & \\textbf{  HQIC               } &   -1.284    \\\\\n",
       "\\textbf{}                        &              - 48              & \\textbf{                     } &             \\\\\n",
       "\\textbf{Covariance Type:}        &              opg               & \\textbf{                     } &             \\\\\n",
       "\\bottomrule\n",
       "\\end{tabular}\n",
       "\\begin{tabular}{lcccccc}\n",
       "                  & \\textbf{coef} & \\textbf{std err} & \\textbf{z} & \\textbf{P$> |$z$|$} & \\textbf{[0.025} & \\textbf{0.975]}  \\\\\n",
       "\\midrule\n",
       "\\textbf{ar.L1}    &      -0.5767  &        0.164     &    -3.512  &         0.000        &       -0.899    &       -0.255     \\\\\n",
       "\\textbf{ar.L2}    &      -0.3750  &        0.170     &    -2.210  &         0.027        &       -0.708    &       -0.042     \\\\\n",
       "\\textbf{ar.S.L12} &      -0.8803  &        0.249     &    -3.534  &         0.000        &       -1.368    &       -0.392     \\\\\n",
       "\\textbf{ar.S.L24} &      -0.3488  &        0.209     &    -1.672  &         0.094        &       -0.758    &        0.060     \\\\\n",
       "\\textbf{sigma2}   &       0.0293  &        0.010     &     2.871  &         0.004        &        0.009    &        0.049     \\\\\n",
       "\\bottomrule\n",
       "\\end{tabular}\n",
       "\\begin{tabular}{lclc}\n",
       "\\textbf{Ljung-Box (L1) (Q):}     & 0.41 & \\textbf{  Jarque-Bera (JB):  } &  1.61  \\\\\n",
       "\\textbf{Prob(Q):}                & 0.52 & \\textbf{  Prob(JB):          } &  0.45  \\\\\n",
       "\\textbf{Heteroskedasticity (H):} & 0.92 & \\textbf{  Skew:              } & -0.47  \\\\\n",
       "\\textbf{Prob(H) (two-sided):}    & 0.89 & \\textbf{  Kurtosis:          } &  2.51  \\\\\n",
       "\\bottomrule\n",
       "\\end{tabular}\n",
       "%\\caption{SARIMAX Results}\n",
       "\\end{center}\n",
       "\n",
       "Warnings: \\newline\n",
       " [1] Covariance matrix calculated using the outer product of gradients (complex-step)."
      ],
      "text/plain": [
       "<class 'statsmodels.iolib.summary.Summary'>\n",
       "\"\"\"\n",
       "                                     SARIMAX Results                                      \n",
       "==========================================================================================\n",
       "Dep. Variable:                       Sales_Scaled   No. Observations:                   48\n",
       "Model:             SARIMAX(2, 1, 0)x(2, 1, 0, 12)   Log Likelihood                   6.984\n",
       "Date:                            Tue, 03 Dec 2024   AIC                             -3.969\n",
       "Time:                                    09:52:03   BIC                              3.808\n",
       "Sample:                                         0   HQIC                            -1.284\n",
       "                                             - 48                                         \n",
       "Covariance Type:                              opg                                         \n",
       "==============================================================================\n",
       "                 coef    std err          z      P>|z|      [0.025      0.975]\n",
       "------------------------------------------------------------------------------\n",
       "ar.L1         -0.5767      0.164     -3.512      0.000      -0.899      -0.255\n",
       "ar.L2         -0.3750      0.170     -2.210      0.027      -0.708      -0.042\n",
       "ar.S.L12      -0.8803      0.249     -3.534      0.000      -1.368      -0.392\n",
       "ar.S.L24      -0.3488      0.209     -1.672      0.094      -0.758       0.060\n",
       "sigma2         0.0293      0.010      2.871      0.004       0.009       0.049\n",
       "===================================================================================\n",
       "Ljung-Box (L1) (Q):                   0.41   Jarque-Bera (JB):                 1.61\n",
       "Prob(Q):                              0.52   Prob(JB):                         0.45\n",
       "Heteroskedasticity (H):               0.92   Skew:                            -0.47\n",
       "Prob(H) (two-sided):                  0.89   Kurtosis:                         2.51\n",
       "===================================================================================\n",
       "\n",
       "Warnings:\n",
       "[1] Covariance matrix calculated using the outer product of gradients (complex-step).\n",
       "\"\"\""
      ]
     },
     "execution_count": 119,
     "metadata": {},
     "output_type": "execute_result"
    }
   ],
   "source": [
    "# Train the model\n",
    "sarima_result = model.fit(method=\"powell\")\n",
    "\n",
    "# Print Summary\n",
    "sarima_result.summary()"
   ]
  },
  {
   "cell_type": "markdown",
   "id": "04b0b5cc-52c9-4fec-946a-457fe4e3aa35",
   "metadata": {},
   "source": [
    "### Sales Forcasting with Trained Model and Evaluation of Model"
   ]
  },
  {
   "cell_type": "code",
   "execution_count": 124,
   "id": "ef93a4cf-0a3e-4688-aae3-5e43df8942b2",
   "metadata": {},
   "outputs": [],
   "source": [
    "# Forecast for next 30 days\n",
    "forecast = sarima_result.get_forecast(steps= 30)\n",
    "\n",
    "# Extract forcasted values\n",
    "forecast_values = forecast.predicted_mean\n",
    "# After predictions, reverse scaling\n",
    "forecast_original = scaler.inverse_transform(forecast_values.values.reshape(-1, 1))\n",
    "# Get Confidence interval\n",
    "forecast_ci = forecast.conf_int()"
   ]
  },
  {
   "cell_type": "code",
   "execution_count": 125,
   "id": "7c2e7156-c112-4e3c-921c-4bda4fe96667",
   "metadata": {},
   "outputs": [],
   "source": [
    "# In-sample Prediction\n",
    "insample_values = sarima_result.fittedvalues"
   ]
  },
  {
   "cell_type": "code",
   "execution_count": 127,
   "id": "83521b77-1555-4783-ae59-530960a68f9f",
   "metadata": {},
   "outputs": [
    {
     "data": {
      "image/png": "[encoded data removed]",
      "text/plain": [
       "<Figure size 1000x600 with 1 Axes>"
      ]
     },
     "metadata": {},
     "output_type": "display_data"
    }
   ],
   "source": [
    "# Plot the forecast\n",
    "plt.figure(figsize= (10,6))\n",
    "plt.plot(df[\"Sales_Scaled\"], label=\"Observed\")\n",
    "plt.plot(insample_values, label= \"Insample Prediction\", color= \"green\")\n",
    "plt.plot(forecast.predicted_mean, label=\"Forecast\", color=\"red\")\n",
    "plt.fill_between(\n",
    "    forecast_ci.index,\n",
    "    forecast_ci.iloc[:, 0],\n",
    "    forecast_ci.iloc[:, 1],\n",
    "    color= \"pink\",\n",
    "    alpha= 0.3\n",
    ")\n",
    "plt.title(\"Sales Forecast\")\n",
    "plt.legend()\n",
    "plt.show()"
   ]
  },
  {
   "cell_type": "code",
   "execution_count": 114,
   "id": "c14f8ea5-8436-42d1-ab07-88e6b5721b6c",
   "metadata": {},
   "outputs": [],
   "source": [
    "# Print Evaluation Metrics\n",
    "def evaluate(y, y_pred):\n",
    "    print(f\"MAE: {mean_absolute_error(y, y_pred)}\")\n",
    "    print(f\"MSE: {mean_squared_error(y, y_pred)}\")\n",
    "    print(f\"RMSE: {np.sqrt(mean_squared_error(y, y_pred))}\")\n",
    "    print(f\"MAPE: {mean_absolute_percentage_error(y, y_pred) * 100: 0.2f}\")"
   ]
  },
  {
   "cell_type": "code",
   "execution_count": 129,
   "id": "c1d8a16b-3b11-44fb-b4b1-a9458a57b8b9",
   "metadata": {},
   "outputs": [
    {
     "name": "stdout",
     "output_type": "stream",
     "text": [
      "MAE: 0.1788481258414072\n",
      "MSE: 0.05024661646032095\n",
      "RMSE: 0.22415757060675187\n",
      "MAPE:  84.91\n"
     ]
    }
   ],
   "source": [
    "evaluate(df[\"Sales_Scaled\"], insample_values)"
   ]
  },
  {
   "cell_type": "code",
   "execution_count": null,
   "id": "da604431-c9d3-4a28-89b1-0cb0da2f60ed",
   "metadata": {},
   "outputs": [],
   "source": []
  }
 ],
 "metadata": {
  "kernelspec": {
   "display_name": "Python 3 (ipykernel)",
   "language": "python",
   "name": "python3"
  },
  "language_info": {
   "codemirror_mode": {
    "name": "ipython",
    "version": 3
   },
   "file_extension": ".py",
   "mimetype": "text/x-python",
   "name": "python",
   "nbconvert_exporter": "python",
   "pygments_lexer": "ipython3",
   "version": "3.11.9"
  },
  "widgets": {
   "application/vnd.jupyter.widget-state+json": {
    "state": {},
    "version_major": 2,
    "version_minor": 0
   }
  }
 },
 "nbformat": 4,
 "nbformat_minor": 5
}
